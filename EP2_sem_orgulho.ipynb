{
 "cells": [
  {
   "cell_type": "code",
   "execution_count": 1,
   "id": "2c37d62d-9142-4a6d-8f89-6ea032f9b4fb",
   "metadata": {},
   "outputs": [],
   "source": [
    "import numpy as np\n",
    "import matplotlib.pyplot as plt"
   ]
  },
  {
   "cell_type": "code",
   "execution_count": 2,
   "id": "7903cdb5-c0a2-4458-a0d8-3812ca76f6c0",
   "metadata": {},
   "outputs": [],
   "source": [
    "# Parâmetros\n",
    "u0   = 4*np.pi*1e-7 #.. H/m\n",
    "urFe = 2500*u0 #....... H/m\n",
    "urAr =    1*u0 #....... H/m\n",
    "dx   = 1e-2 #............ m\n",
    "l    = 0.22 #............ m\n",
    "h    = 0.20 #............ m\n",
    "lbd  = 1.75 #     lambda, sobrerrelaxação\n",
    "tol  = 1e-4 # tolerância, sobrerrelaxação\n",
    "\n",
    "def gera_grid(dx, l, h):\n",
    "    '''\n",
    "    Função que cria, a partir das dimensões do espaço `l` e `h` e a partir da\n",
    "    discretização deste espaço `dx` (=`dy`) um grid que o descreve\n",
    "    \n",
    "    Parameters\n",
    "    ----------\n",
    "    dx: float\n",
    "        passo\n",
    "    l: float\n",
    "        largura do grid\n",
    "    h: float\n",
    "        altura do grid\n",
    "\n",
    "    Returns\n",
    "    -------\n",
    "    M: int\n",
    "        tamanho da grade em x\n",
    "    N: int\n",
    "        tamanho da grade em y\n",
    "    X: np.ndarray, dim=(N, M)\n",
    "        meshgrid em x\n",
    "    Y: np.ndarray, dim=(N, M)\n",
    "        meshgrid em y\n",
    "    grid: np.ndarray, dim=(N, M)\n",
    "        grid do sistema, inicialmente em branco\n",
    "    '''\n",
    "    # dimensões do grid\n",
    "    M = int(l/dx) + 1\n",
    "    N = int(h/dx) + 1\n",
    "\n",
    "    # inicializando o grid\n",
    "    grid = np.zeros((N, M))\n",
    "\n",
    "    # criando dois vetores lineares x e y e os usando de base\n",
    "    # para as matrizes X e Y, resultantes do meshgrid\n",
    "    x = np.linspace(0, l, M)\n",
    "    y = np.linspace(-h/2, h/2, N)\n",
    "    X, Y = np.meshgrid(x, y)\n",
    "    Y = np.around(Y, decimals=10)\n",
    "    X = np.around(X, decimals=10)\n",
    "\n",
    "\n",
    "    return M, N, X, Y, grid\n",
    "\n",
    "def define_elementos(X, Y, grid):\n",
    "    '''\n",
    "    Função que toma o `grid`, gerado pelo método `gera_grid()` e o completa\n",
    "    com a identificação dos elementos que o compõe cada qual em sua posição\n",
    "\n",
    "    Parameters\n",
    "    ----------\n",
    "    X: np.ndarray, dim=(N, M)\n",
    "        meshgrid em x\n",
    "    Y: np.ndarray, dim=(N, M)\n",
    "        meshgrid em y\n",
    "    grid: np.ndarray, dim=(N, M)\n",
    "        grid do sistema, inicialmente em branco\n",
    "\n",
    "    Notes\n",
    "    -----\n",
    "    Para tornar o EP mais dinâmico e eficiente, decidiu-se criar apenas um\n",
    "    grid composto por elementos infinitesimais que indicam o meio ao qual\n",
    "    pertencem. Para tanto, utilizou-se a seguinte notação:\n",
    "    - 0: pontos que não fazem parte do grid (resto que fica acima e abaixo\n",
    "         da parte à direita da bobina, para preencher o espaço retangular)\n",
    "    - 1: entreferro\n",
    "    - 2: armadura\n",
    "    - 3: núcleo de ferro\n",
    "    - 4: bobina_LE\n",
    "    - 5: bobina_LD\n",
    "    - 6: interfaces Ar->Fe em x\n",
    "    - 7: interfaces Ar->Fe em y\n",
    "    - 8: interfaces Fe->Ar em x\n",
    "    - 9: interfaces Fe->Ar em y\n",
    "    Com este método, todas as grandezas que dependem do meio podem facilmente\n",
    "    ser definidas e, apenas com uma matriz, é possível descrever por exemplo\n",
    "    a corrente Jz em todo o sistema (podemos filtrar os pontos em que temos\n",
    "    a bobina e tornar todo o resto da matriz 0)\n",
    "    '''\n",
    "    # definindo as regiões dos diferentes elementos\n",
    "    armadura = (X < 0.04)\n",
    "    entreferro = np.logical_or(\n",
    "        # primeiro retângulo, \n",
    "        # -10 <  y <  10\n",
    "        #   4 <  X <   5\n",
    "        np.logical_and(X > 0.04, X < 0.05),\n",
    "        # região do meio,\n",
    "        #  -6 <  y <   6\n",
    "        #   5 <= x <  14\n",
    "        np.logical_and(\n",
    "            np.logical_and(X >= 0.05, X <= 0.14),\n",
    "            np.logical_and(Y > -0.06, Y < 0.06)\n",
    "            )\n",
    "        )\n",
    "\n",
    "    nucleo = np.logical_or(\n",
    "        # pontas\n",
    "        # y <= -6 | y >= 6\n",
    "        # 5 <= x <  20\n",
    "        np.logical_and(\n",
    "            np.logical_and(X > 0.05, X < 0.20),\n",
    "            np.logical_or(Y < -0.06, Y > 0.06)\n",
    "            ),\n",
    "        # barra vertical (entre as bobinas)\n",
    "        # -10 <  y <  10\n",
    "        #  16 <  x <  16\n",
    "        np.logical_and(X > 0.16, X < 0.20)\n",
    "        )\n",
    "\n",
    "    bobina_LE =  np.logical_and(\n",
    "        # bobina da esquerda (corrente entrando na folha)\n",
    "        #  -6 <= y <=  6\n",
    "        #  14 <= x <  16\n",
    "        np.logical_and(X > 0.14, X < 0.16),\n",
    "        np.logical_and(Y > -0.06, Y <  0.06)\n",
    "        )\n",
    "    \n",
    "    bobina_LD = np.logical_and(\n",
    "        # bobina da direita (corrente saindo da folha)\n",
    "        #  -6 <= y <=  6\n",
    "        #  20 <= x <  22\n",
    "        np.logical_and(X > 0.20, X < 0.22),\n",
    "        np.logical_and(Y > -0.06, Y <  0.06)\n",
    "        )\n",
    "    \n",
    "    Ar_Fe_x = np.logical_or(\n",
    "        # interfaces Ar-> Fe na direção x\n",
    "        # pontas do núcleo (em cima e em baixo)\n",
    "        np.logical_and(\n",
    "            X == 0.05,\n",
    "            np.logical_or(\n",
    "                Y <= -0.06, Y >= 0.06\n",
    "            )\n",
    "        ),\n",
    "        # bobina_LE e núcleo\n",
    "        np.logical_and(\n",
    "            X == 0.16,\n",
    "            np.logical_and(\n",
    "                Y >= -0.06, Y <= 0.06\n",
    "            )\n",
    "        \n",
    "        )\n",
    "    )\n",
    "    \n",
    "    Ar_Fe_y = np.logical_and(\n",
    "        # interfaces Ar-> Fe na direção y\n",
    "        # entreferro e bobina LE -> núcleo em baixo\n",
    "        np.logical_and(\n",
    "            X >= 0.05, X <= 0.16        \n",
    "        ),\n",
    "        Y == -0.06    \n",
    "    )\n",
    "    \n",
    "    Fe_Ar_x = np.logical_or(\n",
    "        # interfaces Fe-> Ar na direção x\n",
    "        # armadura e entreferro\n",
    "        (X==0.04),\n",
    "        # núcleo e bobina LD\n",
    "        np.logical_and(\n",
    "            (X == 0.20),\n",
    "            np.logical_and(\n",
    "                Y >= -0.06, Y <= 0.06\n",
    "            )\n",
    "        )\n",
    "    )\n",
    "    \n",
    "    Fe_Ar_y = np.logical_and(\n",
    "        # interfaces Fe-> Ar na direção y\n",
    "        # núcleo -> bobina LE e entreferro em cima\n",
    "        np.logical_and(\n",
    "            X >= 0.05, X <= 0.16\n",
    "        ),\n",
    "        (Y == 0.06)\n",
    "    )\n",
    "\n",
    "    # assignando os códigos de cada região (regiões não assignadas não fazem\n",
    "    # parte do sistema, região externa, continuam em 0)\n",
    "    grid[entreferro]    = 1\n",
    "    grid[armadura]      = 2\n",
    "    grid[nucleo]        = 3\n",
    "    grid[bobina_LE]     = 4\n",
    "    grid[bobina_LD]     = 5\n",
    "    grid[Ar_Fe_x]       = 6\n",
    "    grid[Ar_Fe_y]       = 7\n",
    "    grid[Fe_Ar_x]       = 8\n",
    "    grid[Fe_Ar_y]       = 9\n",
    "    \n",
    "    return grid\n",
    "\n",
    "M, N, X, Y, grid = gera_grid(dx, l, h)\n",
    "grid = define_elementos(X, Y, grid)\n",
    "A = np.zeros((N, M))\n",
    "\n",
    "def calcula_J(y):\n",
    "    '''\n",
    "    Função auxiliar que calcula a corrente dado um ponto y\n",
    "    '''\n",
    "    return 2e6*np.cos(np.pi*y/12e-2) + 8e5\n",
    "\n",
    "def itera_A(A, grid, N, M, Y):\n",
    "    A_ = A.copy()\n",
    "    for j in range(1, N-1):\n",
    "        for i in range(1, M-1):\n",
    "            if grid[j, i] == 0:\n",
    "                A_[j, i] = 0\n",
    "            elif grid[j, i] in [1, 2, 3]:\n",
    "                A_[j, i] = 1/4 * (A[j+1, i] \n",
    "                               + A[j-1, i]\n",
    "                               + A[j, i-1]\n",
    "                               + A[j, i+1])\n",
    "            elif grid[j, i] == 4:\n",
    "                y = Y[j, 0]\n",
    "                A_[j, i] = 1/4 * (A[j+1, i] \n",
    "                               + A[j-1, i]\n",
    "                               + A[j, i-1]\n",
    "                               + A[j, i+1]\n",
    "                               + dx**2*urAr*calcula_J(y))\n",
    "            # na bobina e na interface entreferro-bobina\n",
    "            elif grid[j, i] == 5:\n",
    "                y = Y[j, 0]\n",
    "                A_[j, i] = 1/4 * (A[j+1, i] \n",
    "                               + A[j-1, i]\n",
    "                               + A[j, i-1]\n",
    "                               + A[j, i+1]\n",
    "                               - dx**2*urAr*calcula_J(y))\n",
    "            elif grid[j, i] == 6:\n",
    "                uAntes  = urAr\n",
    "                uDepois = urFe\n",
    "                alfa = 1 + uDepois/uAntes\n",
    "                A_[j, i] = 1/(4*alfa) * (alfa*(A[j + 1, i] + A[j - 1, i])\n",
    "                                      + 2*(A[j, i + 1] + (alfa - 1)*A[j, i - 1]))\n",
    "\n",
    "            elif grid[j, i] == 7:\n",
    "                uAntes  = urAr\n",
    "                uDepois = urFe\n",
    "                alfa = 1 + uDepois/uAntes\n",
    "                A_[j, i] = 1/(4*alfa) * (2*(A[j + 1, i] + (alfa - 1)*A[j - 1, i])\n",
    "                                       + alfa*(A[j, i + 1] + A[j, i - 1]))\n",
    "\n",
    "            elif grid[j, i] == 8:\n",
    "                uAntes  = urFe\n",
    "                uDepois = urAr\n",
    "                alfa = 1 + uDepois/uAntes\n",
    "                A_[j, i] = 1/(4*alfa) * (alfa*(A[j + 1, i] + A[j - 1, i])\n",
    "                                      + 2*(A[j, i + 1] + (alfa - 1)*A[j, i - 1]))\n",
    "\n",
    "            elif grid[j, i] == 9:\n",
    "                uAntes  = urFe\n",
    "                uDepois = urAr\n",
    "                alfa = 1 + uDepois/uAntes\n",
    "                A_[j, i] = 1/(4*alfa) * (2*(A[j + 1, i] + (alfa - 1)*A[j - 1, i])\n",
    "                                       + alfa*(A[j, i + 1] + A[j, i - 1]))\n",
    "    \n",
    "    aplica_cc(A_, grid)\n",
    "    return A_\n",
    "\n",
    "def aplica_cc(A, grid):\n",
    "    '''\n",
    "    Função que aplica as condições de contorno em A, o que inclui\n",
    "    as condições de Dirichlet (potencial na fronteira externa constante\n",
    "    e igual a 0) e também zera o potencial para os pontos do grid que\n",
    "    \"não pertencem\" ao problema (pontos que foram anexados para tornar)\n",
    "    o grid regular, mas que não fazem parte do problema\n",
    "    '''\n",
    "    # bordas com potencial nulo\n",
    "    A[ 0,  :] = 0\n",
    "    A[-1,  :] = 0\n",
    "    A[ :,  0] = 0\n",
    "    A[ :, -1] = 0\n",
    "    # zera partes que não pertencem ao problema\n",
    "    A         = np.where(grid==0, 0, A)\n",
    "\n",
    "def dif_central(A, i, j, dx, variavel=True):\n",
    "    \"\"\"\n",
    "    Calcula a derivada parcial, por meio da diferença central em relação a variável \n",
    "    dada uma matriz A e o ponto (i, j) do qual se deseja a derivada.\n",
    "    \n",
    "    Parameters\n",
    "    ----------\n",
    "    A: np.ndarray, dim=(N, M)\n",
    "        valores de Az\n",
    "    i: int\n",
    "        linha da qual se deseja calcular\n",
    "    j: int\n",
    "        coluna da qual se deseja calcular\n",
    "    dx: float\n",
    "        passo\n",
    "    variavel: Bool, default = True\n",
    "        para qual variável se deseja calcular a derivada parcial.\n",
    "        Se for True equivale a variável é x e se False a variável\n",
    "        é y.\n",
    "    \n",
    "    Returns\n",
    "    -------\n",
    "    delA_delvariavel: float\n",
    "        valor da derivada parcial calculada em relação a variável desejada\n",
    "    \"\"\"\n",
    "    if variavel:\n",
    "        #se calcula a derivada parcial em relação a x\n",
    "        delA_delvariavel = (A[j-1, i] + A[j+1, i])/(2*dx)\n",
    "    else:\n",
    "        #se calcula a derivada parcial em relação a y\n",
    "        delA_delvariavel = (A[j, i-1] + A[j, i+1])/(2*dx)\n",
    "    return delA_delvariavel\n",
    "\n",
    "def dif_progressiva(A, i, j, dx, variavel=True):\n",
    "    \"\"\"\n",
    "    Calcula a derivada parcial, por meio da diferença progressiva de 3 pontos \n",
    "    em relação a variável  dada uma matriz A e o ponto (i, j) do qual se \n",
    "    deseja a derivada.\n",
    "    \n",
    "    Parameters\n",
    "    ----------\n",
    "    A: np.ndarray, dim=(N, M)\n",
    "        valores de Az\n",
    "    i: int\n",
    "        linha da qual se deseja calcular\n",
    "    j: int\n",
    "        coluna da qual se deseja calcular\n",
    "    dx: float\n",
    "        passo\n",
    "    variavel: Bool, default = True\n",
    "        para qual variável se deseja calcular a derivada parcial.\n",
    "        Se for True equivale a variável é x e se False a variável\n",
    "        é y.\n",
    "    \n",
    "    Returns\n",
    "    -------\n",
    "    delA_delvariavel: float\n",
    "        valor da derivada parcial calculada em relação a variável desejada\n",
    "    \"\"\"\n",
    "    if variavel:\n",
    "        #se calcula a derivada parcial em relação a x\n",
    "        delA_delvariavel = (-A[j+2, i] + 4*A[j+1, i]-3*A[j, i])/(2*dx)\n",
    "    else:\n",
    "        #se calcula a derivada parcial em relação a y\n",
    "        delA_delvariavel = (-A[j, i+2] + 4*A[j, i+1]-3*A[j, i])/(2*dx)\n",
    "    return delA_delvariavel\n",
    "\n",
    "\n",
    "def dif_regressiva(A, i, j, dx, variavel=True):\n",
    "    \"\"\"\n",
    "    Calcula a derivada parcial, por meio da diferença regressiva de 3 pontos \n",
    "    em relação a variável  dada uma matriz A e o ponto (i, j) do qual se \n",
    "    deseja a derivada.\n",
    "    \n",
    "    Parameters\n",
    "    ----------\n",
    "    A: np.ndarray, dim=(N, M)\n",
    "        valores de Az\n",
    "    i: int\n",
    "        linha da qual se deseja calcular\n",
    "    j: int\n",
    "        coluna da qual se deseja calcular\n",
    "    dx: float\n",
    "        passo\n",
    "    variavel: Bool, default = True\n",
    "        para qual variável se deseja calcular a derivada parcial.\n",
    "        Se for True equivale a variável é x e se False a variável\n",
    "        é y.\n",
    "    \n",
    "    Returns\n",
    "    -------\n",
    "    delA_delvariavel: float\n",
    "        valor da derivada parcial calculada em relação a variável desejada\n",
    "    \"\"\"\n",
    "    if variavel:\n",
    "        #se calcula a derivada parcial em relação a x\n",
    "        delA_delvariavel = (A[j+2, i] - 4*A[j+1, i]+3*A[j, i])/(2*dx)\n",
    "    else:\n",
    "        #se calcula a derivada parcial em relação a y\n",
    "        delA_delvariavel = (A[j, i+2] - 4*A[j, i+1]+3*A[j, i])/(2*dx)\n",
    "    return delA_delvariavel\n",
    "\n",
    "def calcula_B(A, N, M):\n",
    "    \"\"\"\n",
    "    Calcula o vetor B ponto a ponto e retorna um array que são as\n",
    "    componentes em x e outro que são as componentes em y.\n",
    "    \n",
    "    Parameters\n",
    "    ----------\n",
    "    A: np.ndarray, dim=(N, M)\n",
    "        valores de Az\n",
    "    M: int\n",
    "        tamanho da grade em x\n",
    "    N: int\n",
    "        tamanho da grade em y\n",
    "    \n",
    "    Returns\n",
    "    -------\n",
    "    Bx: np.ndarray, dim=(N, M)\n",
    "        matriz das componentes de Bx\n",
    "    By: np.ndarray, dim=(N, M)\n",
    "        matriz das componentes de By\n",
    "    \"\"\"\n",
    "    Bx = A.copy()\n",
    "    By = A.copy()\n",
    "    for j in range(1, N-1):\n",
    "        for i in range(1, M-1):\n",
    "            delA_delx = dif_central(A, i, j, dx, variavel=True)\n",
    "            delA_dely = dif_central(A, i, j, dx, variavel=False)\n",
    "            Bx[j, i] = delA_delx\n",
    "            By[j, i] = delA_dely\n",
    "    \n",
    "    return Bx, By"
   ]
  },
  {
   "cell_type": "code",
   "execution_count": 3,
   "id": "d473aebd-cf25-4ba2-9ff8-cc6f2d47651b",
   "metadata": {},
   "outputs": [
    {
     "name": "stdout",
     "output_type": "stream",
     "text": [
      "1.0\n"
     ]
    }
   ],
   "source": [
    "Anew = itera_A(A, grid, N, M, Y)\n",
    "erro = np.max(np.abs(np.divide(Anew - A, Anew, out=np.zeros_like(Anew, dtype=float), where=Anew!=0)))\n",
    "print(f\"{erro}\")\n",
    "i = 0\n",
    "while erro > tol and i <500:\n",
    "    aux = Anew\n",
    "    Anew = lbd*itera_A(Anew, grid, N, M, Y) + (1 - lbd)*A\n",
    "    A    = aux\n",
    "    erro    = np.max(np.abs(np.divide(Anew - A, Anew, out=np.zeros_like(Anew, dtype=float), where=Anew!=0)))\n",
    "    i+= 1\n",
    "    if i%250==0:\n",
    "        print(f\"{i}, {erro}\")"
   ]
  },
  {
   "cell_type": "code",
   "execution_count": 103,
   "id": "dd18d44b-c75b-4799-98f4-3debed93152b",
   "metadata": {},
   "outputs": [],
   "source": [
    "M, N, X, Y, grid = gera_grid(dx, l, h)\n",
    "grid = define_elementos(X, Y, grid)"
   ]
  },
  {
   "cell_type": "code",
   "execution_count": 225,
   "id": "218551b9-5331-4729-adcd-82055c2cb8a1",
   "metadata": {},
   "outputs": [
    {
     "name": "stderr",
     "output_type": "stream",
     "text": [
      "<ipython-input-225-6a524ae8218c>:1: RuntimeWarning: invalid value encountered in true_divide\n",
      "  A/Anew\n"
     ]
    },
    {
     "data": {
      "text/plain": [
       "array([[nan, nan, nan, ..., nan, nan, nan],\n",
       "       [nan, nan, nan, ..., nan, nan, nan],\n",
       "       [nan, nan, nan, ..., nan, nan, nan],\n",
       "       ...,\n",
       "       [nan, nan, nan, ..., nan, nan, nan],\n",
       "       [nan, nan, nan, ..., nan, nan, nan],\n",
       "       [nan, nan, nan, ..., nan, nan, nan]])"
      ]
     },
     "execution_count": 225,
     "metadata": {},
     "output_type": "execute_result"
    }
   ],
   "source": [
    "A/Anew"
   ]
  },
  {
   "cell_type": "code",
   "execution_count": 222,
   "id": "c2e050b6-c62d-4f67-9d7c-10bd2866f978",
   "metadata": {},
   "outputs": [
    {
     "data": {
      "text/plain": [
       "0.000263380519720466"
      ]
     },
     "execution_count": 222,
     "metadata": {},
     "output_type": "execute_result"
    }
   ],
   "source": [
    "np.max(Anew)"
   ]
  },
  {
   "cell_type": "code",
   "execution_count": 230,
   "id": "9fc08a2c-1ac9-4815-9435-c563b3e7cdc2",
   "metadata": {},
   "outputs": [
    {
     "data": {
      "image/png": "[encoded data removed]",
      "text/plain": [
       "<Figure size 432x288 with 2 Axes>"
      ]
     },
     "metadata": {
      "needs_background": "light"
     },
     "output_type": "display_data"
    }
   ],
   "source": [
    "plt.pcolor(A, cmap=plt.cm.jet)\n",
    "plt.colorbar()\n",
    "plt.show()"
   ]
  },
  {
   "cell_type": "code",
   "execution_count": 116,
   "id": "c375eaaf-ce28-430e-821a-4bbef4e04c1d",
   "metadata": {},
   "outputs": [
    {
     "data": {
      "text/plain": [
       "<matplotlib.collections.PolyCollection at 0x299db50db50>"
      ]
     },
     "execution_count": 116,
     "metadata": {},
     "output_type": "execute_result"
    },
    {
     "data": {
      "image/png": "[encoded data removed]",
      "text/plain": [
       "<Figure size 432x288 with 1 Axes>"
      ]
     },
     "metadata": {
      "needs_background": "light"
     },
     "output_type": "display_data"
    }
   ],
   "source": [
    "plt.pcolor(grid==2, cmap=plt.cm.rainbow)\n"
   ]
  },
  {
   "cell_type": "code",
   "execution_count": 83,
   "id": "6e57ca77-3194-4686-b1c3-272403454f80",
   "metadata": {},
   "outputs": [
    {
     "data": {
      "image/png": "[encoded data removed]",
      "text/plain": [
       "<Figure size 432x288 with 2 Axes>"
      ]
     },
     "metadata": {
      "needs_background": "light"
     },
     "output_type": "display_data"
    }
   ],
   "source": [
    "plt.pcolor(A, cmap=plt.cm.seismic)\n",
    "plt.colorbar()\n",
    "plt.show()"
   ]
  },
  {
   "cell_type": "code",
   "execution_count": 75,
   "id": "cb424c7a-87a0-4f04-bdbb-9655349ef04e",
   "metadata": {},
   "outputs": [
    {
     "data": {
      "image/png": "[encoded data removed]",
      "text/plain": [
       "<Figure size 432x288 with 2 Axes>"
      ]
     },
     "metadata": {
      "needs_background": "light"
     },
     "output_type": "display_data"
    }
   ],
   "source": [
    "plt.pcolor(np.abs(np.divide(Anew - A, Anew, out=np.zeros_like(Anew), where=Anew!=0)), cmap=plt.cm.seismic)\n",
    "plt.colorbar()\n",
    "plt.show()"
   ]
  },
  {
   "cell_type": "code",
   "execution_count": 24,
   "id": "09af3b36-dc61-4386-934a-67984c5ec5ca",
   "metadata": {},
   "outputs": [],
   "source": [
    "A_ = itera_A(A_, grid, N, M, Y)"
   ]
  },
  {
   "cell_type": "code",
   "execution_count": 44,
   "id": "02e13ecc-965b-4fdc-895b-a4dd86bf21f5",
   "metadata": {},
   "outputs": [
    {
     "data": {
      "text/plain": [
       "0.002984255911704369"
      ]
     },
     "execution_count": 44,
     "metadata": {},
     "output_type": "execute_result"
    }
   ],
   "source": [
    "erro"
   ]
  },
  {
   "cell_type": "code",
   "execution_count": 32,
   "id": "281b2201-1e24-4462-abb8-83f175053c63",
   "metadata": {},
   "outputs": [
    {
     "data": {
      "text/plain": [
       "0.0"
      ]
     },
     "execution_count": 32,
     "metadata": {},
     "output_type": "execute_result"
    }
   ],
   "source": [
    "np.max(np.abs(np.divide(A_ - A, A_, out=np.zeros_like(A), where=A!=0)))"
   ]
  },
  {
   "cell_type": "code",
   "execution_count": 35,
   "id": "59b5de1b-90ae-4ac9-a19e-3aba85d76ee5",
   "metadata": {},
   "outputs": [
    {
     "data": {
      "text/plain": [
       "array([[0., 0., 0., ..., 0., 0., 0.],\n",
       "       [0., 0., 0., ..., 0., 0., 0.],\n",
       "       [0., 0., 0., ..., 0., 0., 0.],\n",
       "       ...,\n",
       "       [0., 0., 0., ..., 0., 0., 0.],\n",
       "       [0., 0., 0., ..., 0., 0., 0.],\n",
       "       [0., 0., 0., ..., 0., 0., 0.]])"
      ]
     },
     "execution_count": 35,
     "metadata": {},
     "output_type": "execute_result"
    }
   ],
   "source": [
    "np.divide(A_ - A, A_, out=np.zeros_like(A), where=A!=0)"
   ]
  },
  {
   "cell_type": "code",
   "execution_count": 56,
   "id": "5c377309-0cd6-4178-b02c-ba2f17a2397b",
   "metadata": {},
   "outputs": [
    {
     "data": {
      "image/png": "[encoded data removed]",
      "text/plain": [
       "<Figure size 432x288 with 2 Axes>"
      ]
     },
     "metadata": {
      "needs_background": "light"
     },
     "output_type": "display_data"
    }
   ],
   "source": [
    "plt.pcolor(Anew, cmap=plt.cm.seismic)\n",
    "plt.colorbar()\n",
    "plt.show()"
   ]
  },
  {
   "cell_type": "code",
   "execution_count": 50,
   "id": "dea8071f-f17a-4865-ba05-66ed821a3a81",
   "metadata": {},
   "outputs": [
    {
     "data": {
      "text/plain": [
       "<matplotlib.image.AxesImage at 0x299c9dbf970>"
      ]
     },
     "execution_count": 50,
     "metadata": {},
     "output_type": "execute_result"
    },
    {
     "data": {
      "image/png": "[encoded data removed]",
      "text/plain": [
       "<Figure size 432x288 with 1 Axes>"
      ]
     },
     "metadata": {
      "needs_background": "light"
     },
     "output_type": "display_data"
    }
   ],
   "source": [
    "plt.imshow(Anew, origin='lower', interpolation=\"none\")"
   ]
  },
  {
   "cell_type": "code",
   "execution_count": 87,
   "id": "28ec8388-cdf8-4eb1-9301-9c74e0cc6cd2",
   "metadata": {},
   "outputs": [
    {
     "data": {
      "image/png": "[encoded data removed]",
      "text/plain": [
       "<Figure size 576x288 with 1 Axes>"
      ]
     },
     "metadata": {
      "needs_background": "light"
     },
     "output_type": "display_data"
    }
   ],
   "source": [
    "import matplotlib.patches as mpatches\n",
    "values = np.unique(grid.ravel())\n",
    "\n",
    "plt.figure(figsize=(8,4))\n",
    "im = plt.imshow(grid, interpolation='none')\n",
    "colors = [ im.cmap(im.norm(value)) for value in values]\n",
    "# create a patch (proxy artist) for every color \n",
    "patches = [ mpatches.Patch(color=colors[i], label=\"Level {l}\".format(l=values[i]) ) for i in range(len(values)) ]\n",
    "# put those patched as legend-handles into the legend\n",
    "plt.legend(handles=patches, bbox_to_anchor=(1.05, 1), loc=2, borderaxespad=0. )\n",
    "\n",
    "plt.show()\n",
    "#plt.imshow(grid, origin='lower', interpolation=\"none\")\n"
   ]
  },
  {
   "cell_type": "code",
   "execution_count": null,
   "id": "880374d1-97b0-4271-a527-f510559ad560",
   "metadata": {},
   "outputs": [],
   "source": []
  }
 ],
 "metadata": {
  "kernelspec": {
   "display_name": "Python 3",
   "language": "python",
   "name": "python3"
  },
  "language_info": {
   "codemirror_mode": {
    "name": "ipython",
    "version": 3
   },
   "file_extension": ".py",
   "mimetype": "text/x-python",
   "name": "python",
   "nbconvert_exporter": "python",
   "pygments_lexer": "ipython3",
   "version": "3.8.5"
  }
 },
 "nbformat": 4,
 "nbformat_minor": 5
}
