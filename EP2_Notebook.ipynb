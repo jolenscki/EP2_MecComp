{
 "cells": [
  {
   "cell_type": "code",
   "execution_count": 2,
   "id": "41a55ba7-8c6d-4607-bc79-fca70906faac",
   "metadata": {},
   "outputs": [],
   "source": [
    "import numpy as np\n",
    "import matplotlib.pyplot as plt"
   ]
  },
  {
   "cell_type": "code",
   "execution_count": 4,
   "id": "fdbdccd2-d8d2-42f7-8b48-4c9d54d7c572",
   "metadata": {},
   "outputs": [],
   "source": [
    "grid = gera_grid(dx)"
   ]
  },
  {
   "cell_type": "code",
   "execution_count": 5,
   "id": "7b26c455-d5b0-4351-8be1-977bb3bd9763",
   "metadata": {},
   "outputs": [
    {
     "data": {
      "text/plain": [
       "(2001, 2201)"
      ]
     },
     "execution_count": 5,
     "metadata": {},
     "output_type": "execute_result"
    }
   ],
   "source": [
    "grid.shape"
   ]
  },
  {
   "cell_type": "code",
   "execution_count": 6,
   "id": "309bf62e-86b0-4f6e-bfd3-3cf3a74418f8",
   "metadata": {},
   "outputs": [
    {
     "data": {
      "text/plain": [
       "array([[0., 0., 0., ..., 1., 1., 1.],\n",
       "       [0., 0., 0., ..., 1., 1., 1.],\n",
       "       [0., 0., 0., ..., 1., 1., 1.],\n",
       "       ...,\n",
       "       [0., 0., 0., ..., 1., 1., 1.],\n",
       "       [0., 0., 0., ..., 1., 1., 1.],\n",
       "       [0., 0., 0., ..., 1., 1., 1.]])"
      ]
     },
     "execution_count": 6,
     "metadata": {},
     "output_type": "execute_result"
    }
   ],
   "source": [
    "np.piecewise(grid, [grid!=0, grid==0], [0, 1])"
   ]
  },
  {
   "cell_type": "code",
   "execution_count": 102,
   "id": "127116bf-c766-4211-841b-0ab46b3986a7",
   "metadata": {},
   "outputs": [
    {
     "data": {
      "text/plain": [
       "array([[1., 1., 1., ..., 0., 0., 0.],\n",
       "       [1., 1., 1., ..., 0., 0., 0.],\n",
       "       [1., 1., 1., ..., 0., 0., 0.],\n",
       "       ...,\n",
       "       [1., 1., 1., ..., 0., 0., 0.],\n",
       "       [1., 1., 1., ..., 0., 0., 0.],\n",
       "       [1., 1., 1., ..., 0., 0., 0.]])"
      ]
     },
     "execution_count": 102,
     "metadata": {},
     "output_type": "execute_result"
    }
   ],
   "source": [
    "np.piecewise(grid, [grid!=2, grid==2], [0, 1])"
   ]
  },
  {
   "cell_type": "code",
   "execution_count": 8,
   "id": "3bc486fd-7b43-4775-90af-e071abe66d35",
   "metadata": {},
   "outputs": [
    {
     "data": {
      "text/plain": [
       "<matplotlib.image.AxesImage at 0x28eb992f1f0>"
      ]
     },
     "execution_count": 8,
     "metadata": {},
     "output_type": "execute_result"
    },
    {
     "data": {
      "image/png": "[encoded data removed]",
      "text/plain": [
       "<Figure size 432x288 with 1 Axes>"
      ]
     },
     "metadata": {
      "needs_background": "light"
     },
     "output_type": "display_data"
    }
   ],
   "source": [
    "plt.imshow(grid, origin='lower', interpolation=\"none\")"
   ]
  },
  {
   "cell_type": "code",
   "execution_count": null,
   "id": "a5a00db4-d42c-4f09-833a-5c7b813b6c6e",
   "metadata": {},
   "outputs": [],
   "source": []
  },
  {
   "cell_type": "code",
   "execution_count": 3,
   "id": "417a5ad0-16d3-4068-9eb4-860ca3fdc8b3",
   "metadata": {},
   "outputs": [],
   "source": [
    "# Parâmetros\n",
    "u0   = 4*np.pi*1e-7 #... H/m\n",
    "urf  = 2500*u0 #........ H/m\n",
    "urAr =    1*u0 #........ H/m\n",
    "prof =    8e-2 #.......... m\n",
    "dx   = 1e-2\n",
    "\n",
    "\n",
    "def gera_grid(dx, l=22, h=20):\n",
    "    '''\n",
    "    Função que cria, a partir das dimensões do espaço `l` e `h` e a partir da\n",
    "    discretização deste espaço `dx` (=`dy`) um grid que o descreve\n",
    "    \n",
    "    Parameters\n",
    "    -----------\n",
    "    dx: float\n",
    "        discretização da malha quadrada\n",
    "    l: float (default=22)\n",
    "        largura do sistema\n",
    "    h: float (default=20)\n",
    "        altura do sistema\n",
    "        \n",
    "    Returns\n",
    "    -------\n",
    "    grid: np.ndarray, dim=(N, M)\n",
    "        grid do sistema, com os devidos elementos localizados através dos \n",
    "        códigos apresentados nas notas da função; note que M=int(l/dx) e\n",
    "        N=int(h/dx)\n",
    "    \n",
    "    Notes\n",
    "    -----\n",
    "    Para tornar o EP mais dinâmico e eficiente, decidiu-se criar apenas um\n",
    "    grid composto por elementos infinitesimais que indicam o meio ao qual\n",
    "    pertencem. Para tanto, utilizou-se a seguinte notação:\n",
    "    - 0: pontos que não fazem parte do grid (resto que fica acima e abaixo\n",
    "         da parte à direita da bobina)\n",
    "    - 1: entreferro\n",
    "    - 2: armadura\n",
    "    - 3: núcleo de ferro\n",
    "    - 4: bobina\n",
    "    Com este método, todas as grandezas que dependem do meio podem facilmente\n",
    "    ser definidas e, apenas com uma matriz, é possível descrever por exemplo\n",
    "    a corrente Jz em todo o sistema (podemos filtrar os pontos em que temos\n",
    "    a bobina e tornar todo o resto da matriz 0)\n",
    "    '''\n",
    "    # dimensões do grid\n",
    "    M = int(l/dx) + 1\n",
    "    N = int(h/dx) + 1\n",
    "    \n",
    "    # inicializando o grid\n",
    "    grid = np.zeros((N, M))\n",
    "\n",
    "    # criando dois vetores lineares x e y e os usando de base\n",
    "    # para as matrizes X e Y, resultantes do meshgrid\n",
    "    x = np.linspace(0, l, M)\n",
    "    y = np.linspace(-h/2, h/2, N)\n",
    "    X, Y = np.meshgrid(x, y)\n",
    "    \n",
    "    # definindo as regiões dos diferentes elementos\n",
    "    armadura = (X <= 4)\n",
    "    entreferro = np.logical_or(\n",
    "        # primeiro retângulo, \n",
    "        # -10 <  y <  10\n",
    "        #   4 <  X <   5\n",
    "        np.logical_and(X > 4, X < 5),\n",
    "        # região do meio,\n",
    "        #  -6 <  y <   6\n",
    "        #   5 <= x <  14\n",
    "        np.logical_and(\n",
    "            np.logical_and(X >= 5, X < 14),\n",
    "            np.logical_and(Y > -6, Y < 6)\n",
    "            )\n",
    "        )\n",
    "\n",
    "    nucleo = np.logical_or(\n",
    "        # pontas\n",
    "        # y <= -6 | y >= 6\n",
    "        # 5 <= x <  20\n",
    "        np.logical_and(\n",
    "            np.logical_and(X >= 5, X <= 20),\n",
    "            np.logical_or(Y <= -6, Y >= 6)\n",
    "            ),\n",
    "        # barra vertical (entre as bobinas)\n",
    "        # -10 <  y <  10\n",
    "        #  16 <  x <  16\n",
    "        np.logical_and(X > 16, X < 20)\n",
    "        )\n",
    "    \n",
    "    bobina = np.logical_or(\n",
    "        # bobina da esquerda (corrente entrando na folha)\n",
    "        #  -6 <= y <=  6\n",
    "        #  14 <= x <  16\n",
    "        np.logical_and(\n",
    "            np.logical_and(X >= 14, X <= 16),\n",
    "            np.logical_and(Y >= -6, Y <=  6)\n",
    "            ),\n",
    "        #  -6 <= y <=  6\n",
    "        #  20 <= x <  22\n",
    "        np.logical_and(\n",
    "            np.logical_and(X >= 20, X <= 22),\n",
    "            np.logical_and(Y >= -6, Y <=  6)\n",
    "            )\n",
    "        )\n",
    "    \n",
    "    # assignando os códigos de cada região (regiões não assignadas não fazem\n",
    "    # parte do sistema, região externa, continuam em 0)\n",
    "    grid[entreferro] = 1\n",
    "    grid[armadura]   = 2\n",
    "    grid[nucleo]     = 3\n",
    "    grid[bobina]     = 4\n",
    "    \n",
    "    return grid\n",
    "\n",
    "\n",
    "def discretiza_elementos(dx, l=22, h=20):\n",
    "    '''\n",
    "    Função que gera um grid a partir das informações da malha e de suas dimensões\n",
    "    e localiza os diferentes elementes, assignando a eles diferentes códigos\n",
    "    '''\n",
    "\n",
    "\n",
    "def Jz():\n",
    "    '''\n",
    "    Função que retorna a corrente elétrica distribuida na bobina na direção\n",
    "    z (saindo da folha)\n",
    "    \n",
    "    Returns\n",
    "    -------\n",
    "    Jz: np.ndarray, dim=(N, M)\n",
    "        corrente elétrica distribuida na direção do eixo z\n",
    "    '''\n",
    "    grid = gera_grid(dx)\n",
    "    N = grid.shape[0]\n",
    "    M = grid.shape[1]\n",
    "    \n",
    "    Jz = np.zeros((N, M))\n",
    "    \n",
    "    \n",
    "    \n",
    "            #Jz = 2e6*np.cos(np.pi*y/1.2e-1) + 8e5\n",
    "\n",
    "    \n",
    "    return Jz\n"
   ]
  },
  {
   "cell_type": "code",
   "execution_count": 12,
   "id": "d20185d2-7cad-489a-b512-12fb941b9775",
   "metadata": {},
   "outputs": [
    {
     "data": {
      "text/plain": [
       "array([[1, 0],\n",
       "       [0, 0]])"
      ]
     },
     "execution_count": 12,
     "metadata": {},
     "output_type": "execute_result"
    }
   ],
   "source": [
    "a  = np.asarray([[1, 2], [2, 3]])\n",
    "np.piecewise(a, [a!= 1, a==1], [0, 1])"
   ]
  },
  {
   "cell_type": "code",
   "execution_count": null,
   "id": "e7e6a7ba-46d2-4774-8e86-99a1745d6cb9",
   "metadata": {},
   "outputs": [],
   "source": []
  }
 ],
 "metadata": {
  "kernelspec": {
   "display_name": "Python 3",
   "language": "python",
   "name": "python3"
  },
  "language_info": {
   "codemirror_mode": {
    "name": "ipython",
    "version": 3
   },
   "file_extension": ".py",
   "mimetype": "text/x-python",
   "name": "python",
   "nbconvert_exporter": "python",
   "pygments_lexer": "ipython3",
   "version": "3.8.5"
  }
 },
 "nbformat": 4,
 "nbformat_minor": 5
}
