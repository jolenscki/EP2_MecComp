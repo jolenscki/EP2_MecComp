{
 "cells": [
  {
   "cell_type": "code",
   "execution_count": 29,
   "id": "41a55ba7-8c6d-4607-bc79-fca70906faac",
   "metadata": {},
   "outputs": [],
   "source": [
    "import numpy as np\n",
    "import matplotlib.pyplot as plt"
   ]
  },
  {
   "cell_type": "code",
   "execution_count": 30,
   "id": "fdbdccd2-d8d2-42f7-8b48-4c9d54d7c572",
   "metadata": {},
   "outputs": [],
   "source": [
    "grid = gera_grid(dx)"
   ]
  },
  {
   "cell_type": "code",
   "execution_count": 31,
   "id": "7b26c455-d5b0-4351-8be1-977bb3bd9763",
   "metadata": {},
   "outputs": [
    {
     "data": {
      "text/plain": [
       "(2001, 2201)"
      ]
     },
     "execution_count": 31,
     "metadata": {},
     "output_type": "execute_result"
    }
   ],
   "source": [
    "grid.shape"
   ]
  },
  {
   "cell_type": "code",
   "execution_count": 41,
   "id": "309bf62e-86b0-4f6e-bfd3-3cf3a74418f8",
   "metadata": {},
   "outputs": [
    {
     "data": {
      "text/plain": [
       "array([[0., 0., 0., ..., 1., 1., 1.],\n",
       "       [0., 0., 0., ..., 1., 1., 1.],\n",
       "       [0., 0., 0., ..., 1., 1., 1.],\n",
       "       ...,\n",
       "       [0., 0., 0., ..., 1., 1., 1.],\n",
       "       [0., 0., 0., ..., 1., 1., 1.],\n",
       "       [0., 0., 0., ..., 1., 1., 1.]])"
      ]
     },
     "execution_count": 41,
     "metadata": {},
     "output_type": "execute_result"
    }
   ],
   "source": [
    "np.piecewise(grid, [grid!=0, grid==0], [0, 1])"
   ]
  },
  {
   "cell_type": "code",
   "execution_count": 33,
   "id": "127116bf-c766-4211-841b-0ab46b3986a7",
   "metadata": {},
   "outputs": [
    {
     "data": {
      "text/plain": [
       "array([[1., 1., 1., ..., 0., 0., 0.],\n",
       "       [1., 1., 1., ..., 0., 0., 0.],\n",
       "       [1., 1., 1., ..., 0., 0., 0.],\n",
       "       ...,\n",
       "       [1., 1., 1., ..., 0., 0., 0.],\n",
       "       [1., 1., 1., ..., 0., 0., 0.],\n",
       "       [1., 1., 1., ..., 0., 0., 0.]])"
      ]
     },
     "execution_count": 33,
     "metadata": {},
     "output_type": "execute_result"
    }
   ],
   "source": [
    "np.piecewise(grid, [grid!=2, grid==2], [0, 1])"
   ]
  },
  {
   "cell_type": "code",
   "execution_count": 34,
   "id": "3bc486fd-7b43-4775-90af-e071abe66d35",
   "metadata": {},
   "outputs": [
    {
     "data": {
      "text/plain": [
       "<matplotlib.image.AxesImage at 0x7f8a95be0438>"
      ]
     },
     "execution_count": 34,
     "metadata": {},
     "output_type": "execute_result"
    },
    {
     "data": {
      "image/png": "[encoded data removed]",
      "text/plain": [
       "<Figure size 432x288 with 1 Axes>"
      ]
     },
     "metadata": {
      "needs_background": "light"
     },
     "output_type": "display_data"
    }
   ],
   "source": [
    "plt.imshow(grid, origin='lower', interpolation=\"none\")"
   ]
  },
  {
   "cell_type": "code",
   "execution_count": null,
   "id": "a5a00db4-d42c-4f09-833a-5c7b813b6c6e",
   "metadata": {},
   "outputs": [],
   "source": []
  },
  {
   "cell_type": "code",
   "execution_count": 45,
   "id": "417a5ad0-16d3-4068-9eb4-860ca3fdc8b3",
   "metadata": {},
   "outputs": [],
   "source": [
    "# Parâmetros\n",
    "u0   = 4*np.pi*1e-7 #... H/m\n",
    "urf  = 2500*u0 #........ H/m\n",
    "urAr =    1*u0 #........ H/m\n",
    "prof =    8e-2 #.......... m\n",
    "dx   = 1e-2\n",
    "\n",
    "\n",
    "def gera_grid(dx, l=22, h=20):\n",
    "    '''\n",
    "    Função que cria, a partir das dimensões do espaço `l` e `h` e a partir da\n",
    "    discretização deste espaço `dx` (=`dy`) um grid que o descreve\n",
    "    \n",
    "    Parameters\n",
    "    -----------\n",
    "    dx: float\n",
    "        discretização da malha quadrada\n",
    "    l: float (default=22)\n",
    "        largura do sistema\n",
    "    h: float (default=20)\n",
    "        altura do sistema\n",
    "        \n",
    "    Returns\n",
    "    -------\n",
    "    grid: np.ndarray, dim=(N, M)\n",
    "        grid do sistema, com os devidos elementos localizados através dos \n",
    "        códigos apresentados nas notas da função; note que M=int(l/dx) e\n",
    "        N=int(h/dx)\n",
    "    \n",
    "    Notes\n",
    "    -----\n",
    "    Para tornar o EP mais dinâmico e eficiente, decidiu-se criar apenas um\n",
    "    grid composto por elementos infinitesimais que indicam o meio ao qual\n",
    "    pertencem. Para tanto, utilizou-se a seguinte notação:\n",
    "    - 0: pontos que não fazem parte do grid (resto que fica acima e abaixo\n",
    "         da parte à direita da bobina, para preencher o espaço retangular)\n",
    "    - 1: entreferro\n",
    "    - 2: armadura\n",
    "    - 3: núcleo de ferro\n",
    "    - 4: bobina\n",
    "    Com este método, todas as grandezas que dependem do meio podem facilmente\n",
    "    ser definidas e, apenas com uma matriz, é possível descrever por exemplo\n",
    "    a corrente Jz em todo o sistema (podemos filtrar os pontos em que temos\n",
    "    a bobina e tornar todo o resto da matriz 0)\n",
    "    '''\n",
    "    # dimensões do grid\n",
    "    M = int(l/dx) + 1\n",
    "    N = int(h/dx) + 1\n",
    "    \n",
    "    # inicializando o grid\n",
    "    grid = np.zeros((N, M))\n",
    "\n",
    "    # criando dois vetores lineares x e y e os usando de base\n",
    "    # para as matrizes X e Y, resultantes do meshgrid\n",
    "    x = np.linspace(0, l, M)\n",
    "    y = np.linspace(-h/2, h/2, N)\n",
    "    X, Y = np.meshgrid(x, y)\n",
    "    \n",
    "    # definindo as regiões dos diferentes elementos\n",
    "    armadura = (X <= 4)\n",
    "    entreferro = np.logical_or(\n",
    "        # primeiro retângulo, \n",
    "        # -10 <  y <  10\n",
    "        #   4 <  X <   5\n",
    "        np.logical_and(X > 4, X < 5),\n",
    "        # região do meio,\n",
    "        #  -6 <  y <   6\n",
    "        #   5 <= x <  14\n",
    "        np.logical_and(\n",
    "            np.logical_and(X >= 5, X < 14),\n",
    "            np.logical_and(Y > -6, Y < 6)\n",
    "            )\n",
    "        )\n",
    "\n",
    "    nucleo = np.logical_or(\n",
    "        # pontas\n",
    "        # y <= -6 | y >= 6\n",
    "        # 5 <= x <  20\n",
    "        np.logical_and(\n",
    "            np.logical_and(X >= 5, X <= 20),\n",
    "            np.logical_or(Y <= -6, Y >= 6)\n",
    "            ),\n",
    "        # barra vertical (entre as bobinas)\n",
    "        # -10 <  y <  10\n",
    "        #  16 <  x <  16\n",
    "        np.logical_and(X > 16, X < 20)\n",
    "        )\n",
    "    \n",
    "    bobina = np.logical_or(\n",
    "        # bobina da esquerda (corrente entrando na folha)\n",
    "        #  -6 <= y <=  6\n",
    "        #  14 <= x <  16\n",
    "        np.logical_and(\n",
    "            np.logical_and(X >= 14, X <= 16),\n",
    "            np.logical_and(Y >= -6, Y <=  6)\n",
    "            ),\n",
    "        #  -6 <= y <=  6\n",
    "        #  20 <= x <  22\n",
    "        np.logical_and(\n",
    "            np.logical_and(X >= 20, X <= 22),\n",
    "            np.logical_and(Y >= -6, Y <=  6)\n",
    "            )\n",
    "        )\n",
    "    \n",
    "    # assignando os códigos de cada região (regiões não assignadas não fazem\n",
    "    # parte do sistema, região externa, continuam em 0)\n",
    "    grid[entreferro] = 1\n",
    "    grid[armadura]   = 2\n",
    "    grid[nucleo]     = 3\n",
    "    grid[bobina]     = 4\n",
    "    \n",
    "    return grid\n",
    "\n",
    "\n",
    "def discretiza_elementos(dx, l=22, h=20):\n",
    "    '''\n",
    "    Função que gera um grid a partir das informações da malha e de suas dimensões\n",
    "    e localiza os diferentes elementes, assignando a eles diferentes códigos\n",
    "    '''\n",
    "\n",
    "\n",
    "def Jz():\n",
    "    '''\n",
    "    Função que retorna a corrente elétrica distribuida na bobina na direção\n",
    "    z (saindo da folha)\n",
    "    \n",
    "    Returns\n",
    "    -------\n",
    "    Jz: np.ndarray, dim=(N, M)\n",
    "        corrente elétrica distribuida na direção do eixo z\n",
    "    '''\n",
    "    grid = gera_grid(dx)\n",
    "    N = grid.shape[0]\n",
    "    M = grid.shape[1]\n",
    "    \n",
    "    Jz = np.zeros((N, M))\n",
    "    \n",
    "    \n",
    "    \n",
    "            #Jz = 2e6*np.cos(np.pi*y/1.2e-1) + 8e5\n",
    "\n",
    "    \n",
    "    return Jz\n",
    "\n",
    "def mu(urf=urf, urAr=urAr, dx=dx):\n",
    "    '''\n",
    "    Função que retorna uma grid com os valores de mu para cada material\n",
    "    \n",
    "    Parameters\n",
    "    -----------\n",
    "    urf:  float (default=urf)\n",
    "        permeabilidade do núcleo de ferro e da armadura\n",
    "    urAr: float (default=urAr)\n",
    "        permeabilidade do ar e da bobina\n",
    "    dx: float\n",
    "        discretização da malha quadrada\n",
    "    \n",
    "    Returns\n",
    "    -------\n",
    "    mu: np.ndarray, dim=(N, M)\n",
    "        valores de mu em cada meio\n",
    "    '''\n",
    "    grid_mus = gera_grid(dx)\n",
    "    grid_mus = np.piecewise(grid_mus, [\n",
    "        grid_mus==0,  #vazios      - mu_Ar\n",
    "        grid_mus==1,  #entreferro  - mu_Ar\n",
    "        grid_mus==2,  #armadura    - mu_Fer\n",
    "        grid_mus==3,  #nucleoFerro - mu_Fer\n",
    "        grid_mus==4], #bobina      - mu_Ar\n",
    "        [urAr, urAr, urf, urf, urAr]\n",
    "    )\n",
    "    return grid_mus"
   ]
  },
  {
   "cell_type": "code",
   "execution_count": 8,
   "id": "d20185d2-7cad-489a-b512-12fb941b9775",
   "metadata": {},
   "outputs": [
    {
     "data": {
      "text/plain": [
       "array([[1, 0],\n",
       "       [0, 0]])"
      ]
     },
     "execution_count": 8,
     "metadata": {},
     "output_type": "execute_result"
    }
   ],
   "source": [
    "a  = np.asarray([[1, 2], [2, 3]])\n",
    "np.piecewise(a, [a!= 1, a==1], [0, 1])"
   ]
  },
  {
   "cell_type": "code",
   "execution_count": 35,
   "id": "cdf204d0-68ac-42f0-8eee-c5ee6f094665",
   "metadata": {},
   "outputs": [
    {
     "data": {
      "text/plain": [
       "array([[2., 2., 2., ..., 0., 0., 0.],\n",
       "       [2., 2., 2., ..., 0., 0., 0.],\n",
       "       [2., 2., 2., ..., 0., 0., 0.],\n",
       "       ...,\n",
       "       [2., 2., 2., ..., 0., 0., 0.],\n",
       "       [2., 2., 2., ..., 0., 0., 0.],\n",
       "       [2., 2., 2., ..., 0., 0., 0.]])"
      ]
     },
     "execution_count": 35,
     "metadata": {},
     "output_type": "execute_result"
    }
   ],
   "source": [
    "grid"
   ]
  },
  {
   "cell_type": "code",
   "execution_count": 24,
   "id": "4a3b90b1-c4cb-427a-8137-109e7e5f4699",
   "metadata": {},
   "outputs": [],
   "source": [
    "import scipy"
   ]
  },
  {
   "cell_type": "code",
   "execution_count": 28,
   "id": "50191c4e-fd71-4ecd-bb3c-95c76ed188a8",
   "metadata": {},
   "outputs": [
    {
     "data": {
      "text/plain": [
       "\u001b[0;31mSignature:\u001b[0m \u001b[0mnp\u001b[0m\u001b[0;34m.\u001b[0m\u001b[0mroll\u001b[0m\u001b[0;34m(\u001b[0m\u001b[0ma\u001b[0m\u001b[0;34m,\u001b[0m \u001b[0mshift\u001b[0m\u001b[0;34m,\u001b[0m \u001b[0maxis\u001b[0m\u001b[0;34m=\u001b[0m\u001b[0;32mNone\u001b[0m\u001b[0;34m)\u001b[0m\u001b[0;34m\u001b[0m\u001b[0;34m\u001b[0m\u001b[0m\n",
       "\u001b[0;31mSource:\u001b[0m   \n",
       "\u001b[0;34m@\u001b[0m\u001b[0marray_function_dispatch\u001b[0m\u001b[0;34m(\u001b[0m\u001b[0m_roll_dispatcher\u001b[0m\u001b[0;34m)\u001b[0m\u001b[0;34m\u001b[0m\n",
       "\u001b[0;34m\u001b[0m\u001b[0;32mdef\u001b[0m \u001b[0mroll\u001b[0m\u001b[0;34m(\u001b[0m\u001b[0ma\u001b[0m\u001b[0;34m,\u001b[0m \u001b[0mshift\u001b[0m\u001b[0;34m,\u001b[0m \u001b[0maxis\u001b[0m\u001b[0;34m=\u001b[0m\u001b[0;32mNone\u001b[0m\u001b[0;34m)\u001b[0m\u001b[0;34m:\u001b[0m\u001b[0;34m\u001b[0m\n",
       "\u001b[0;34m\u001b[0m    \u001b[0;34m\"\"\"\u001b[0m\n",
       "\u001b[0;34m    Roll array elements along a given axis.\u001b[0m\n",
       "\u001b[0;34m\u001b[0m\n",
       "\u001b[0;34m    Elements that roll beyond the last position are re-introduced at\u001b[0m\n",
       "\u001b[0;34m    the first.\u001b[0m\n",
       "\u001b[0;34m\u001b[0m\n",
       "\u001b[0;34m    Parameters\u001b[0m\n",
       "\u001b[0;34m    ----------\u001b[0m\n",
       "\u001b[0;34m    a : array_like\u001b[0m\n",
       "\u001b[0;34m        Input array.\u001b[0m\n",
       "\u001b[0;34m    shift : int or tuple of ints\u001b[0m\n",
       "\u001b[0;34m        The number of places by which elements are shifted.  If a tuple,\u001b[0m\n",
       "\u001b[0;34m        then `axis` must be a tuple of the same size, and each of the\u001b[0m\n",
       "\u001b[0;34m        given axes is shifted by the corresponding number.  If an int\u001b[0m\n",
       "\u001b[0;34m        while `axis` is a tuple of ints, then the same value is used for\u001b[0m\n",
       "\u001b[0;34m        all given axes.\u001b[0m\n",
       "\u001b[0;34m    axis : int or tuple of ints, optional\u001b[0m\n",
       "\u001b[0;34m        Axis or axes along which elements are shifted.  By default, the\u001b[0m\n",
       "\u001b[0;34m        array is flattened before shifting, after which the original\u001b[0m\n",
       "\u001b[0;34m        shape is restored.\u001b[0m\n",
       "\u001b[0;34m\u001b[0m\n",
       "\u001b[0;34m    Returns\u001b[0m\n",
       "\u001b[0;34m    -------\u001b[0m\n",
       "\u001b[0;34m    res : ndarray\u001b[0m\n",
       "\u001b[0;34m        Output array, with the same shape as `a`.\u001b[0m\n",
       "\u001b[0;34m\u001b[0m\n",
       "\u001b[0;34m    See Also\u001b[0m\n",
       "\u001b[0;34m    --------\u001b[0m\n",
       "\u001b[0;34m    rollaxis : Roll the specified axis backwards, until it lies in a\u001b[0m\n",
       "\u001b[0;34m               given position.\u001b[0m\n",
       "\u001b[0;34m\u001b[0m\n",
       "\u001b[0;34m    Notes\u001b[0m\n",
       "\u001b[0;34m    -----\u001b[0m\n",
       "\u001b[0;34m    .. versionadded:: 1.12.0\u001b[0m\n",
       "\u001b[0;34m\u001b[0m\n",
       "\u001b[0;34m    Supports rolling over multiple dimensions simultaneously.\u001b[0m\n",
       "\u001b[0;34m\u001b[0m\n",
       "\u001b[0;34m    Examples\u001b[0m\n",
       "\u001b[0;34m    --------\u001b[0m\n",
       "\u001b[0;34m    >>> x = np.arange(10)\u001b[0m\n",
       "\u001b[0;34m    >>> np.roll(x, 2)\u001b[0m\n",
       "\u001b[0;34m    array([8, 9, 0, 1, 2, 3, 4, 5, 6, 7])\u001b[0m\n",
       "\u001b[0;34m    >>> np.roll(x, -2)\u001b[0m\n",
       "\u001b[0;34m    array([2, 3, 4, 5, 6, 7, 8, 9, 0, 1])\u001b[0m\n",
       "\u001b[0;34m\u001b[0m\n",
       "\u001b[0;34m    >>> x2 = np.reshape(x, (2,5))\u001b[0m\n",
       "\u001b[0;34m    >>> x2\u001b[0m\n",
       "\u001b[0;34m    array([[0, 1, 2, 3, 4],\u001b[0m\n",
       "\u001b[0;34m           [5, 6, 7, 8, 9]])\u001b[0m\n",
       "\u001b[0;34m    >>> np.roll(x2, 1)\u001b[0m\n",
       "\u001b[0;34m    array([[9, 0, 1, 2, 3],\u001b[0m\n",
       "\u001b[0;34m           [4, 5, 6, 7, 8]])\u001b[0m\n",
       "\u001b[0;34m    >>> np.roll(x2, -1)\u001b[0m\n",
       "\u001b[0;34m    array([[1, 2, 3, 4, 5],\u001b[0m\n",
       "\u001b[0;34m           [6, 7, 8, 9, 0]])\u001b[0m\n",
       "\u001b[0;34m    >>> np.roll(x2, 1, axis=0)\u001b[0m\n",
       "\u001b[0;34m    array([[5, 6, 7, 8, 9],\u001b[0m\n",
       "\u001b[0;34m           [0, 1, 2, 3, 4]])\u001b[0m\n",
       "\u001b[0;34m    >>> np.roll(x2, -1, axis=0)\u001b[0m\n",
       "\u001b[0;34m    array([[5, 6, 7, 8, 9],\u001b[0m\n",
       "\u001b[0;34m           [0, 1, 2, 3, 4]])\u001b[0m\n",
       "\u001b[0;34m    >>> np.roll(x2, 1, axis=1)\u001b[0m\n",
       "\u001b[0;34m    array([[4, 0, 1, 2, 3],\u001b[0m\n",
       "\u001b[0;34m           [9, 5, 6, 7, 8]])\u001b[0m\n",
       "\u001b[0;34m    >>> np.roll(x2, -1, axis=1)\u001b[0m\n",
       "\u001b[0;34m    array([[1, 2, 3, 4, 0],\u001b[0m\n",
       "\u001b[0;34m           [6, 7, 8, 9, 5]])\u001b[0m\n",
       "\u001b[0;34m\u001b[0m\n",
       "\u001b[0;34m    \"\"\"\u001b[0m\u001b[0;34m\u001b[0m\n",
       "\u001b[0;34m\u001b[0m    \u001b[0ma\u001b[0m \u001b[0;34m=\u001b[0m \u001b[0masanyarray\u001b[0m\u001b[0;34m(\u001b[0m\u001b[0ma\u001b[0m\u001b[0;34m)\u001b[0m\u001b[0;34m\u001b[0m\n",
       "\u001b[0;34m\u001b[0m    \u001b[0;32mif\u001b[0m \u001b[0maxis\u001b[0m \u001b[0;32mis\u001b[0m \u001b[0;32mNone\u001b[0m\u001b[0;34m:\u001b[0m\u001b[0;34m\u001b[0m\n",
       "\u001b[0;34m\u001b[0m        \u001b[0;32mreturn\u001b[0m \u001b[0mroll\u001b[0m\u001b[0;34m(\u001b[0m\u001b[0ma\u001b[0m\u001b[0;34m.\u001b[0m\u001b[0mravel\u001b[0m\u001b[0;34m(\u001b[0m\u001b[0;34m)\u001b[0m\u001b[0;34m,\u001b[0m \u001b[0mshift\u001b[0m\u001b[0;34m,\u001b[0m \u001b[0;36m0\u001b[0m\u001b[0;34m)\u001b[0m\u001b[0;34m.\u001b[0m\u001b[0mreshape\u001b[0m\u001b[0;34m(\u001b[0m\u001b[0ma\u001b[0m\u001b[0;34m.\u001b[0m\u001b[0mshape\u001b[0m\u001b[0;34m)\u001b[0m\u001b[0;34m\u001b[0m\n",
       "\u001b[0;34m\u001b[0m\u001b[0;34m\u001b[0m\n",
       "\u001b[0;34m\u001b[0m    \u001b[0;32melse\u001b[0m\u001b[0;34m:\u001b[0m\u001b[0;34m\u001b[0m\n",
       "\u001b[0;34m\u001b[0m        \u001b[0maxis\u001b[0m \u001b[0;34m=\u001b[0m \u001b[0mnormalize_axis_tuple\u001b[0m\u001b[0;34m(\u001b[0m\u001b[0maxis\u001b[0m\u001b[0;34m,\u001b[0m \u001b[0ma\u001b[0m\u001b[0;34m.\u001b[0m\u001b[0mndim\u001b[0m\u001b[0;34m,\u001b[0m \u001b[0mallow_duplicate\u001b[0m\u001b[0;34m=\u001b[0m\u001b[0;32mTrue\u001b[0m\u001b[0;34m)\u001b[0m\u001b[0;34m\u001b[0m\n",
       "\u001b[0;34m\u001b[0m        \u001b[0mbroadcasted\u001b[0m \u001b[0;34m=\u001b[0m \u001b[0mbroadcast\u001b[0m\u001b[0;34m(\u001b[0m\u001b[0mshift\u001b[0m\u001b[0;34m,\u001b[0m \u001b[0maxis\u001b[0m\u001b[0;34m)\u001b[0m\u001b[0;34m\u001b[0m\n",
       "\u001b[0;34m\u001b[0m        \u001b[0;32mif\u001b[0m \u001b[0mbroadcasted\u001b[0m\u001b[0;34m.\u001b[0m\u001b[0mndim\u001b[0m \u001b[0;34m>\u001b[0m \u001b[0;36m1\u001b[0m\u001b[0;34m:\u001b[0m\u001b[0;34m\u001b[0m\n",
       "\u001b[0;34m\u001b[0m            \u001b[0;32mraise\u001b[0m \u001b[0mValueError\u001b[0m\u001b[0;34m(\u001b[0m\u001b[0;34m\u001b[0m\n",
       "\u001b[0;34m\u001b[0m                \u001b[0;34m\"'shift' and 'axis' should be scalars or 1D sequences\"\u001b[0m\u001b[0;34m)\u001b[0m\u001b[0;34m\u001b[0m\n",
       "\u001b[0;34m\u001b[0m        \u001b[0mshifts\u001b[0m \u001b[0;34m=\u001b[0m \u001b[0;34m{\u001b[0m\u001b[0max\u001b[0m\u001b[0;34m:\u001b[0m \u001b[0;36m0\u001b[0m \u001b[0;32mfor\u001b[0m \u001b[0max\u001b[0m \u001b[0;32min\u001b[0m \u001b[0mrange\u001b[0m\u001b[0;34m(\u001b[0m\u001b[0ma\u001b[0m\u001b[0;34m.\u001b[0m\u001b[0mndim\u001b[0m\u001b[0;34m)\u001b[0m\u001b[0;34m}\u001b[0m\u001b[0;34m\u001b[0m\n",
       "\u001b[0;34m\u001b[0m        \u001b[0;32mfor\u001b[0m \u001b[0msh\u001b[0m\u001b[0;34m,\u001b[0m \u001b[0max\u001b[0m \u001b[0;32min\u001b[0m \u001b[0mbroadcasted\u001b[0m\u001b[0;34m:\u001b[0m\u001b[0;34m\u001b[0m\n",
       "\u001b[0;34m\u001b[0m            \u001b[0mshifts\u001b[0m\u001b[0;34m[\u001b[0m\u001b[0max\u001b[0m\u001b[0;34m]\u001b[0m \u001b[0;34m+=\u001b[0m \u001b[0msh\u001b[0m\u001b[0;34m\u001b[0m\n",
       "\u001b[0;34m\u001b[0m\u001b[0;34m\u001b[0m\n",
       "\u001b[0;34m\u001b[0m        \u001b[0mrolls\u001b[0m \u001b[0;34m=\u001b[0m \u001b[0;34m[\u001b[0m\u001b[0;34m(\u001b[0m\u001b[0;34m(\u001b[0m\u001b[0mslice\u001b[0m\u001b[0;34m(\u001b[0m\u001b[0;32mNone\u001b[0m\u001b[0;34m)\u001b[0m\u001b[0;34m,\u001b[0m \u001b[0mslice\u001b[0m\u001b[0;34m(\u001b[0m\u001b[0;32mNone\u001b[0m\u001b[0;34m)\u001b[0m\u001b[0;34m)\u001b[0m\u001b[0;34m,\u001b[0m\u001b[0;34m)\u001b[0m\u001b[0;34m]\u001b[0m \u001b[0;34m*\u001b[0m \u001b[0ma\u001b[0m\u001b[0;34m.\u001b[0m\u001b[0mndim\u001b[0m\u001b[0;34m\u001b[0m\n",
       "\u001b[0;34m\u001b[0m        \u001b[0;32mfor\u001b[0m \u001b[0max\u001b[0m\u001b[0;34m,\u001b[0m \u001b[0moffset\u001b[0m \u001b[0;32min\u001b[0m \u001b[0mshifts\u001b[0m\u001b[0;34m.\u001b[0m\u001b[0mitems\u001b[0m\u001b[0;34m(\u001b[0m\u001b[0;34m)\u001b[0m\u001b[0;34m:\u001b[0m\u001b[0;34m\u001b[0m\n",
       "\u001b[0;34m\u001b[0m            \u001b[0moffset\u001b[0m \u001b[0;34m%=\u001b[0m \u001b[0ma\u001b[0m\u001b[0;34m.\u001b[0m\u001b[0mshape\u001b[0m\u001b[0;34m[\u001b[0m\u001b[0max\u001b[0m\u001b[0;34m]\u001b[0m \u001b[0;32mor\u001b[0m \u001b[0;36m1\u001b[0m  \u001b[0;31m# If `a` is empty, nothing matters.\u001b[0m\u001b[0;34m\u001b[0m\n",
       "\u001b[0;34m\u001b[0m            \u001b[0;32mif\u001b[0m \u001b[0moffset\u001b[0m\u001b[0;34m:\u001b[0m\u001b[0;34m\u001b[0m\n",
       "\u001b[0;34m\u001b[0m                \u001b[0;31m# (original, result), (original, result)\u001b[0m\u001b[0;34m\u001b[0m\n",
       "\u001b[0;34m\u001b[0m                \u001b[0mrolls\u001b[0m\u001b[0;34m[\u001b[0m\u001b[0max\u001b[0m\u001b[0;34m]\u001b[0m \u001b[0;34m=\u001b[0m \u001b[0;34m(\u001b[0m\u001b[0;34m(\u001b[0m\u001b[0mslice\u001b[0m\u001b[0;34m(\u001b[0m\u001b[0;32mNone\u001b[0m\u001b[0;34m,\u001b[0m \u001b[0;34m-\u001b[0m\u001b[0moffset\u001b[0m\u001b[0;34m)\u001b[0m\u001b[0;34m,\u001b[0m \u001b[0mslice\u001b[0m\u001b[0;34m(\u001b[0m\u001b[0moffset\u001b[0m\u001b[0;34m,\u001b[0m \u001b[0;32mNone\u001b[0m\u001b[0;34m)\u001b[0m\u001b[0;34m)\u001b[0m\u001b[0;34m,\u001b[0m\u001b[0;34m\u001b[0m\n",
       "\u001b[0;34m\u001b[0m                             \u001b[0;34m(\u001b[0m\u001b[0mslice\u001b[0m\u001b[0;34m(\u001b[0m\u001b[0;34m-\u001b[0m\u001b[0moffset\u001b[0m\u001b[0;34m,\u001b[0m \u001b[0;32mNone\u001b[0m\u001b[0;34m)\u001b[0m\u001b[0;34m,\u001b[0m \u001b[0mslice\u001b[0m\u001b[0;34m(\u001b[0m\u001b[0;32mNone\u001b[0m\u001b[0;34m,\u001b[0m \u001b[0moffset\u001b[0m\u001b[0;34m)\u001b[0m\u001b[0;34m)\u001b[0m\u001b[0;34m)\u001b[0m\u001b[0;34m\u001b[0m\n",
       "\u001b[0;34m\u001b[0m\u001b[0;34m\u001b[0m\n",
       "\u001b[0;34m\u001b[0m        \u001b[0mresult\u001b[0m \u001b[0;34m=\u001b[0m \u001b[0mempty_like\u001b[0m\u001b[0;34m(\u001b[0m\u001b[0ma\u001b[0m\u001b[0;34m)\u001b[0m\u001b[0;34m\u001b[0m\n",
       "\u001b[0;34m\u001b[0m        \u001b[0;32mfor\u001b[0m \u001b[0mindices\u001b[0m \u001b[0;32min\u001b[0m \u001b[0mitertools\u001b[0m\u001b[0;34m.\u001b[0m\u001b[0mproduct\u001b[0m\u001b[0;34m(\u001b[0m\u001b[0;34m*\u001b[0m\u001b[0mrolls\u001b[0m\u001b[0;34m)\u001b[0m\u001b[0;34m:\u001b[0m\u001b[0;34m\u001b[0m\n",
       "\u001b[0;34m\u001b[0m            \u001b[0marr_index\u001b[0m\u001b[0;34m,\u001b[0m \u001b[0mres_index\u001b[0m \u001b[0;34m=\u001b[0m \u001b[0mzip\u001b[0m\u001b[0;34m(\u001b[0m\u001b[0;34m*\u001b[0m\u001b[0mindices\u001b[0m\u001b[0;34m)\u001b[0m\u001b[0;34m\u001b[0m\n",
       "\u001b[0;34m\u001b[0m            \u001b[0mresult\u001b[0m\u001b[0;34m[\u001b[0m\u001b[0mres_index\u001b[0m\u001b[0;34m]\u001b[0m \u001b[0;34m=\u001b[0m \u001b[0ma\u001b[0m\u001b[0;34m[\u001b[0m\u001b[0marr_index\u001b[0m\u001b[0;34m]\u001b[0m\u001b[0;34m\u001b[0m\n",
       "\u001b[0;34m\u001b[0m\u001b[0;34m\u001b[0m\n",
       "\u001b[0;34m\u001b[0m        \u001b[0;32mreturn\u001b[0m \u001b[0mresult\u001b[0m\u001b[0;34m\u001b[0m\u001b[0;34m\u001b[0m\u001b[0m\n",
       "\u001b[0;31mFile:\u001b[0m      ~/anaconda3/lib/python3.7/site-packages/numpy/core/numeric.py\n",
       "\u001b[0;31mType:\u001b[0m      function\n"
      ]
     },
     "metadata": {},
     "output_type": "display_data"
    }
   ],
   "source": [
    "np.roll??"
   ]
  },
  {
   "cell_type": "code",
   "execution_count": null,
   "id": "04627469-b730-44ac-8c64-00768f4ebe67",
   "metadata": {},
   "outputs": [],
   "source": []
  }
 ],
 "metadata": {
  "kernelspec": {
   "display_name": "Python 3",
   "language": "python",
   "name": "python3"
  },
  "language_info": {
   "codemirror_mode": {
    "name": "ipython",
    "version": 3
   },
   "file_extension": ".py",
   "mimetype": "text/x-python",
   "name": "python",
   "nbconvert_exporter": "python",
   "pygments_lexer": "ipython3",
   "version": "3.7.3"
  }
 },
 "nbformat": 4,
 "nbformat_minor": 5
}
