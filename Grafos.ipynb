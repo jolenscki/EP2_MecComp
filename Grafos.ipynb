{
 "cells": [
  {
   "cell_type": "code",
   "execution_count": null,
   "id": "b5a58770-b441-4bbf-9db3-c9d5c75bcfe8",
   "metadata": {},
   "outputs": [],
   "source": [
    "import networkx as nx\n",
    "from matplotlib import pyplot as plt\n",
    "\n",
    "G = nx.grid_2d_graph(3,3)\n",
    "\n",
    "plt.figure(figsize=(6,6))\n",
    "pos = {(x,y):(y,-x) for x,y in G.nodes()}\n",
    "nx.draw(G, pos=pos, \n",
    "        node_color='red', \n",
    "        with_labels=True,\n",
    "        node_size=600)\n",
    "\n",
    "# nodes\n",
    "pos = {0: (1,  1), 1: (0.25, 1), 2: (1.75, 1), 3: (1, 0), 4: (1, 2)}\n",
    "options = {\"node_size\": 500, \"alpha\": .9}\n",
    "nx.draw_networkx_nodes(G, pos, nodelist=[0, 1, 2, 3, 4], node_color=\"r\", **options)\n",
    "\n",
    "# edges\n",
    "nx.draw_networkx_edges(G, pos, width=1.0, alpha=0.5)\n",
    "nx.draw_networkx_edges(\n",
    "    G,\n",
    "    pos,\n",
    "    edgelist=[(0, 1), (0, 2), (0, 3), (0, 4)],\n",
    "    width=3,\n",
    "    alpha=0.5,\n",
    "    edge_color=\"black\",\n",
    ")\n",
    "G.graph['dpi'] = 300\n",
    "\n",
    "\n",
    "# some math labels\n",
    "labels = {}\n",
    "labels[0] = r\"$i, j$\"\n",
    "labels[1] = r\"$i - 1, j$\"\n",
    "labels[2] = r\"$i + 1, j$\"\n",
    "labels[3] = r\"$i, j - 1$\"\n",
    "labels[4] = r\"$i, j + 1$\"\n",
    "pos_nodes = {0: (1.25, 0.75), 1: (0.25, 1.3), 2: (1.75, 1.3), 3: (1, -.3), 4: (1, 2.3)}\n",
    "nx.draw_networkx_labels(G, pos_nodes, labels, font_size=16)\n",
    "\n",
    "plt.axis(\"off\")\n",
    "plt.gca().set_xlim(-0.5, 2.5)\n",
    "plt.gca().set_ylim(-0.5, 2.5)\n",
    "\n",
    "siglas = {r'$E$': (0.26, .95), r'$D$': (1.75, .95), r'$B$': (1.02, -.06), r'$C$': (1, 1.93)}\n",
    "for k, v in siglas.items():\n",
    "    plt.text(v[0], v[1], s=k, horizontalalignment='center', size=14)\n",
    "plt.savefig('grafo.png', dpi=300, bbox_inches='tight')\n",
    "plt.show()\n"
   ]
  }
 ],
 "metadata": {
  "kernelspec": {
   "display_name": "Python 3",
   "language": "python",
   "name": "python3"
  },
  "language_info": {
   "codemirror_mode": {
    "name": "ipython",
    "version": 3
   },
   "file_extension": ".py",
   "mimetype": "text/x-python",
   "name": "python",
   "nbconvert_exporter": "python",
   "pygments_lexer": "ipython3",
   "version": "3.8.5"
  }
 },
 "nbformat": 4,
 "nbformat_minor": 5
}
